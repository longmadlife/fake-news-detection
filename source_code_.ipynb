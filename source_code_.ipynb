{
  "nbformat": 4,
  "nbformat_minor": 0,
  "metadata": {
    "colab": {
      "name": "source code .ipynb",
      "provenance": []
    },
    "kernelspec": {
      "name": "python3",
      "display_name": "Python 3"
    }
  },
  "cells": [
    {
      "cell_type": "markdown",
      "metadata": {
        "id": "zveKAx9MsHQR",
        "colab_type": "text"
      },
      "source": [
        "Import thư viện "
      ]
    },
    {
      "cell_type": "code",
      "metadata": {
        "id": "tdHA72euK6Vy",
        "colab_type": "code",
        "colab": {
          "base_uri": "https://localhost:8080/",
          "height": 70
        },
        "outputId": "0b4e23b0-c738-42f4-e738-41ccff745416"
      },
      "source": [
        "import pandas as pd\n",
        "import seaborn as sns\n",
        "import matplotlib.pyplot as plt\n",
        "from sklearn.feature_extraction.text import CountVectorizer\n",
        "from sklearn.feature_extraction.text import TfidfTransformer\n",
        "from sklearn.metrics import accuracy_score\n",
        "from sklearn.model_selection import train_test_split\n",
        "from sklearn.pipeline import Pipeline\n",
        "from sklearn.svm import LinearSVC\n",
        "from sklearn.linear_model import LogisticRegression\n",
        "from sklearn.metrics import accuracy_score, confusion_matrix,classification_report\n"
      ],
      "execution_count": 2,
      "outputs": [
        {
          "output_type": "stream",
          "text": [
            "/usr/local/lib/python3.6/dist-packages/statsmodels/tools/_testing.py:19: FutureWarning: pandas.util.testing is deprecated. Use the functions in the public API at pandas.testing instead.\n",
            "  import pandas.util.testing as tm\n"
          ],
          "name": "stderr"
        }
      ]
    },
    {
      "cell_type": "markdown",
      "metadata": {
        "id": "_dH4cueIWYFN",
        "colab_type": "text"
      },
      "source": [
        "Tải dữ liệu từ github"
      ]
    },
    {
      "cell_type": "code",
      "metadata": {
        "id": "PyEbEtuDWYgW",
        "colab_type": "code",
        "colab": {
          "base_uri": "https://localhost:8080/",
          "height": 118
        },
        "outputId": "04c9c0dd-6ebc-4a4b-d7bc-1d24479fbf84"
      },
      "source": [
        "import os\n",
        "os.chdir('longmadlife')\n",
        "!git clone https://github.com/longmadlife/longmadlife.git\n"
      ],
      "execution_count": 10,
      "outputs": [
        {
          "output_type": "stream",
          "text": [
            "Cloning into 'longmadlife'...\n",
            "remote: Enumerating objects: 16, done.\u001b[K\n",
            "remote: Counting objects: 100% (16/16), done.\u001b[K\n",
            "remote: Compressing objects: 100% (15/15), done.\u001b[K\n",
            "remote: Total 16 (delta 4), reused 4 (delta 0), pack-reused 0\u001b[K\n",
            "Unpacking objects: 100% (16/16), done.\n"
          ],
          "name": "stdout"
        }
      ]
    },
    {
      "cell_type": "markdown",
      "metadata": {
        "id": "bMkfEkYBVwSE",
        "colab_type": "text"
      },
      "source": [
        "đọc dữ liệu"
      ]
    },
    {
      "cell_type": "code",
      "metadata": {
        "id": "aeV8bgoUVvxT",
        "colab_type": "code",
        "colab": {}
      },
      "source": [
        "true = pd.read_csv(\"/content/longmadlife/True.csv\") \n",
        "fake = pd.read_csv(\"/content/longmadlife/Fake.csv\")"
      ],
      "execution_count": 17,
      "outputs": []
    },
    {
      "cell_type": "markdown",
      "metadata": {
        "id": "Qk8k0nLIsUGQ",
        "colab_type": "text"
      },
      "source": [
        "Gắn nhẵn cho bài báo"
      ]
    },
    {
      "cell_type": "code",
      "metadata": {
        "id": "1wuZxWZBLFJH",
        "colab_type": "code",
        "colab": {}
      },
      "source": [
        "fake['label'] = '0'\n",
        "true['label'] = '1'\n"
      ],
      "execution_count": 18,
      "outputs": []
    },
    {
      "cell_type": "markdown",
      "metadata": {
        "id": "qDlI7aeksZ5U",
        "colab_type": "text"
      },
      "source": [
        "Gộp 2 dataset true và fake thành 1 dataset "
      ]
    },
    {
      "cell_type": "code",
      "metadata": {
        "id": "CewhXU1bsRdQ",
        "colab_type": "code",
        "colab": {
          "base_uri": "https://localhost:8080/",
          "height": 195
        },
        "outputId": "1c9fcd83-180a-4faf-8a07-17fbf9552d63"
      },
      "source": [
        "news = pd.concat([fake, true]).reset_index(drop = True)\n",
        "news.head()"
      ],
      "execution_count": 19,
      "outputs": [
        {
          "output_type": "execute_result",
          "data": {
            "text/html": [
              "<div>\n",
              "<style scoped>\n",
              "    .dataframe tbody tr th:only-of-type {\n",
              "        vertical-align: middle;\n",
              "    }\n",
              "\n",
              "    .dataframe tbody tr th {\n",
              "        vertical-align: top;\n",
              "    }\n",
              "\n",
              "    .dataframe thead th {\n",
              "        text-align: right;\n",
              "    }\n",
              "</style>\n",
              "<table border=\"1\" class=\"dataframe\">\n",
              "  <thead>\n",
              "    <tr style=\"text-align: right;\">\n",
              "      <th></th>\n",
              "      <th>title</th>\n",
              "      <th>text</th>\n",
              "      <th>subject</th>\n",
              "      <th>date</th>\n",
              "      <th>label</th>\n",
              "    </tr>\n",
              "  </thead>\n",
              "  <tbody>\n",
              "    <tr>\n",
              "      <th>0</th>\n",
              "      <td>Donald Trump Sends Out Embarrassing New Year’...</td>\n",
              "      <td>Donald Trump just couldn t wish all Americans ...</td>\n",
              "      <td>News</td>\n",
              "      <td>December 31, 2017</td>\n",
              "      <td>0</td>\n",
              "    </tr>\n",
              "    <tr>\n",
              "      <th>1</th>\n",
              "      <td>Drunk Bragging Trump Staffer Started Russian ...</td>\n",
              "      <td>House Intelligence Committee Chairman Devin Nu...</td>\n",
              "      <td>News</td>\n",
              "      <td>December 31, 2017</td>\n",
              "      <td>0</td>\n",
              "    </tr>\n",
              "    <tr>\n",
              "      <th>2</th>\n",
              "      <td>Sheriff David Clarke Becomes An Internet Joke...</td>\n",
              "      <td>On Friday, it was revealed that former Milwauk...</td>\n",
              "      <td>News</td>\n",
              "      <td>December 30, 2017</td>\n",
              "      <td>0</td>\n",
              "    </tr>\n",
              "    <tr>\n",
              "      <th>3</th>\n",
              "      <td>Trump Is So Obsessed He Even Has Obama’s Name...</td>\n",
              "      <td>On Christmas day, Donald Trump announced that ...</td>\n",
              "      <td>News</td>\n",
              "      <td>December 29, 2017</td>\n",
              "      <td>0</td>\n",
              "    </tr>\n",
              "    <tr>\n",
              "      <th>4</th>\n",
              "      <td>Pope Francis Just Called Out Donald Trump Dur...</td>\n",
              "      <td>Pope Francis used his annual Christmas Day mes...</td>\n",
              "      <td>News</td>\n",
              "      <td>December 25, 2017</td>\n",
              "      <td>0</td>\n",
              "    </tr>\n",
              "  </tbody>\n",
              "</table>\n",
              "</div>"
            ],
            "text/plain": [
              "                                               title  ... label\n",
              "0   Donald Trump Sends Out Embarrassing New Year’...  ...     0\n",
              "1   Drunk Bragging Trump Staffer Started Russian ...  ...     0\n",
              "2   Sheriff David Clarke Becomes An Internet Joke...  ...     0\n",
              "3   Trump Is So Obsessed He Even Has Obama’s Name...  ...     0\n",
              "4   Pope Francis Just Called Out Donald Trump Dur...  ...     0\n",
              "\n",
              "[5 rows x 5 columns]"
            ]
          },
          "metadata": {
            "tags": []
          },
          "execution_count": 19
        }
      ]
    },
    {
      "cell_type": "markdown",
      "metadata": {
        "id": "Ta1IgAuysjVL",
        "colab_type": "text"
      },
      "source": [
        "Phân tích dữ liệu"
      ]
    },
    {
      "cell_type": "code",
      "metadata": {
        "id": "Qui_I8Amr35V",
        "colab_type": "code",
        "colab": {
          "base_uri": "https://localhost:8080/",
          "height": 296
        },
        "outputId": "ed55f0ba-e84a-4fe4-e0f4-7732dad06fae"
      },
      "source": [
        "sns.set_style(\"dark\")\n",
        "sns.countplot(news.label)"
      ],
      "execution_count": 20,
      "outputs": [
        {
          "output_type": "execute_result",
          "data": {
            "text/plain": [
              "<matplotlib.axes._subplots.AxesSubplot at 0x7facf57ba518>"
            ]
          },
          "metadata": {
            "tags": []
          },
          "execution_count": 20
        },
        {
          "output_type": "display_data",
          "data": {
            "image/png": "[encoded data removed]",
            "text/plain": [
              "<Figure size 432x288 with 1 Axes>"
            ]
          },
          "metadata": {
            "tags": []
          }
        }
      ]
    },
    {
      "cell_type": "code",
      "metadata": {
        "id": "p5IEvd9jr_Pv",
        "colab_type": "code",
        "colab": {
          "base_uri": "https://localhost:8080/",
          "height": 67
        },
        "outputId": "34b4e884-6b17-4406-8bb6-e65cb52474ea"
      },
      "source": [
        "news.label.value_counts()\n"
      ],
      "execution_count": 21,
      "outputs": [
        {
          "output_type": "execute_result",
          "data": {
            "text/plain": [
              "0    23481\n",
              "1    21417\n",
              "Name: label, dtype: int64"
            ]
          },
          "metadata": {
            "tags": []
          },
          "execution_count": 21
        }
      ]
    },
    {
      "cell_type": "markdown",
      "metadata": {
        "id": "ZGfHmkWTtOmc",
        "colab_type": "text"
      },
      "source": [
        "Chia dataset thành 2 tập train và test "
      ]
    },
    {
      "cell_type": "code",
      "metadata": {
        "id": "HFLP363Lrfr-",
        "colab_type": "code",
        "colab": {}
      },
      "source": [
        "x_train,x_test,y_train,y_test = train_test_split(news['text'], news.label, test_size=0.2, random_state=0)\n"
      ],
      "execution_count": 22,
      "outputs": []
    },
    {
      "cell_type": "markdown",
      "metadata": {
        "id": "xPkCPPhGtX0x",
        "colab_type": "text"
      },
      "source": [
        "Huấn luyện mô hình"
      ]
    },
    {
      "cell_type": "markdown",
      "metadata": {
        "id": "JJvlE1mnF5Lx",
        "colab_type": "text"
      },
      "source": [
        "Logistic Regression Classifier\n",
        "\n"
      ]
    },
    {
      "cell_type": "code",
      "metadata": {
        "id": "BKvDeUpQMZB5",
        "colab_type": "code",
        "colab": {}
      },
      "source": [
        "\n",
        "pipe = Pipeline([('vect', CountVectorizer()),\n",
        "                 ('tfidf', TfidfTransformer()),\n",
        "                 ('model', LogisticRegression())])\n",
        "\n",
        "model = pipe.fit(x_train, y_train)\n",
        "prediction = model.predict(x_test)\n"
      ],
      "execution_count": 26,
      "outputs": []
    },
    {
      "cell_type": "markdown",
      "metadata": {
        "id": "2X42QAt_trH4",
        "colab_type": "text"
      },
      "source": [
        "Kết quả mô hình Logistic Regression"
      ]
    },
    {
      "cell_type": "code",
      "metadata": {
        "id": "iJ7txRGKMkx3",
        "colab_type": "code",
        "colab": {
          "base_uri": "https://localhost:8080/",
          "height": 282
        },
        "outputId": "a645ba51-fbd2-44a7-d5dd-22b3c5a4029b"
      },
      "source": [
        "cm = confusion_matrix(y_test, prediction)\n",
        "sns.heatmap(cm, annot=True ,fmt='g', cmap='coolwarm', annot_kws={\"size\" :40})\n",
        "acca = accuracy_score(y_test, pipe.predict(x_test))\n",
        "print(acca)\n",
        "plt.show()"
      ],
      "execution_count": 27,
      "outputs": [
        {
          "output_type": "stream",
          "text": [
            "0.9874164810690423\n"
          ],
          "name": "stdout"
        },
        {
          "output_type": "display_data",
          "data": {
            "image/png": "[encoded data removed]",
            "text/plain": [
              "<Figure size 432x288 with 2 Axes>"
            ]
          },
          "metadata": {
            "tags": []
          }
        }
      ]
    },
    {
      "cell_type": "code",
      "metadata": {
        "id": "NVDNIesAFXeT",
        "colab_type": "code",
        "colab": {
          "base_uri": "https://localhost:8080/",
          "height": 185
        },
        "outputId": "0d6fa9c1-cfe3-476a-a899-5d101499075c"
      },
      "source": [
        "print(\"accuracy: {}%\".format(round(accuracy_score(y_test, prediction)*100,2)))\n",
        "print(classification_report(y_test, prediction))"
      ],
      "execution_count": 28,
      "outputs": [
        {
          "output_type": "stream",
          "text": [
            "accuracy: 98.74%\n",
            "              precision    recall  f1-score   support\n",
            "\n",
            "           0       0.99      0.99      0.99      4713\n",
            "           1       0.99      0.99      0.99      4267\n",
            "\n",
            "    accuracy                           0.99      8980\n",
            "   macro avg       0.99      0.99      0.99      8980\n",
            "weighted avg       0.99      0.99      0.99      8980\n",
            "\n"
          ],
          "name": "stdout"
        }
      ]
    },
    {
      "cell_type": "markdown",
      "metadata": {
        "id": "_lFmDM8LGDa-",
        "colab_type": "text"
      },
      "source": [
        "Suport Vector Machine Classifier\n"
      ]
    },
    {
      "cell_type": "code",
      "metadata": {
        "id": "DZuYbe38GOh_",
        "colab_type": "code",
        "colab": {}
      },
      "source": [
        "\n",
        "pipe = Pipeline([('vect', CountVectorizer()),\n",
        "                 ('tfidf', TfidfTransformer()),\n",
        "                 ('model', LinearSVC())])\n",
        "\n",
        "model = pipe.fit(x_train, y_train)\n",
        "prediction = model.predict(x_test)\n"
      ],
      "execution_count": 29,
      "outputs": []
    },
    {
      "cell_type": "markdown",
      "metadata": {
        "id": "WFDfQjpjt2ry",
        "colab_type": "text"
      },
      "source": [
        "Kết quả mô hình Support vector machine"
      ]
    },
    {
      "cell_type": "code",
      "metadata": {
        "id": "afEvbrVCGVMM",
        "colab_type": "code",
        "colab": {
          "base_uri": "https://localhost:8080/",
          "height": 282
        },
        "outputId": "6d5ca5b0-38c9-4f6b-a827-7d4fd6e321fc"
      },
      "source": [
        "\n",
        "cm = confusion_matrix(y_test, prediction)\n",
        "sns.heatmap(cm, annot=True ,fmt='g', cmap='coolwarm', annot_kws={\"size\" :40})\n",
        "acca = accuracy_score(y_test, pipe.predict(x_test))\n",
        "print(acca)\n",
        "plt.show()"
      ],
      "execution_count": 30,
      "outputs": [
        {
          "output_type": "stream",
          "text": [
            "0.9952115812917595\n"
          ],
          "name": "stdout"
        },
        {
          "output_type": "display_data",
          "data": {
            "image/png": "[encoded data removed]",
            "text/plain": [
              "<Figure size 432x288 with 2 Axes>"
            ]
          },
          "metadata": {
            "tags": []
          }
        }
      ]
    },
    {
      "cell_type": "code",
      "metadata": {
        "id": "amtWRgxdGVXZ",
        "colab_type": "code",
        "colab": {
          "base_uri": "https://localhost:8080/",
          "height": 185
        },
        "outputId": "3c8e4443-dd15-4609-bc83-9378d7fe5371"
      },
      "source": [
        "print(\"accuracy: {}%\".format(round(accuracy_score(y_test, prediction)*100,2)))\n",
        "print(classification_report(y_test, prediction))"
      ],
      "execution_count": 31,
      "outputs": [
        {
          "output_type": "stream",
          "text": [
            "accuracy: 99.52%\n",
            "              precision    recall  f1-score   support\n",
            "\n",
            "           0       1.00      0.99      1.00      4713\n",
            "           1       0.99      1.00      0.99      4267\n",
            "\n",
            "    accuracy                           1.00      8980\n",
            "   macro avg       1.00      1.00      1.00      8980\n",
            "weighted avg       1.00      1.00      1.00      8980\n",
            "\n"
          ],
          "name": "stdout"
        }
      ]
    },
    {
      "cell_type": "code",
      "metadata": {
        "id": "nFDojyOZquV_",
        "colab_type": "code",
        "colab": {}
      },
      "source": [
        ""
      ],
      "execution_count": null,
      "outputs": []
    },
    {
      "cell_type": "markdown",
      "metadata": {
        "id": "fibzYRBUGhKV",
        "colab_type": "text"
      },
      "source": [
        ""
      ]
    }
  ]
}